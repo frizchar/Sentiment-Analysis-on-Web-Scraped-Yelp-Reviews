{
  "nbformat": 4,
  "nbformat_minor": 0,
  "metadata": {
    "colab": {
      "name": "Sentiment Analysis on Web Scraped Yelp Reviews.ipynb",
      "provenance": [],
      "collapsed_sections": [
        "tiDVug9pVhlv"
      ],
      "authorship_tag": "ABX9TyMtV3fPlheH4P+FyOzdIAh1",
      "include_colab_link": true
    },
    "kernelspec": {
      "name": "python3",
      "display_name": "Python 3"
    },
    "language_info": {
      "name": "python"
    }
  },
  "cells": [
    {
      "cell_type": "markdown",
      "metadata": {
        "id": "view-in-github",
        "colab_type": "text"
      },
      "source": [
        "<a href=\"https://colab.research.google.com/github/frizchar/Sentiment-Analysis-on-Web-Scraped-Yelp-Reviews/blob/main/Sentiment_Analysis_on_Web_Scraped_Yelp_Reviews.ipynb\" target=\"_parent\"><img src=\"https://colab.research.google.com/assets/colab-badge.svg\" alt=\"Open In Colab\"/></a>"
      ]
    },
    {
      "cell_type": "markdown",
      "metadata": {
        "id": "tiDVug9pVhlv"
      },
      "source": [
        "# Collect Yelp Reviews"
      ]
    },
    {
      "cell_type": "code",
      "metadata": {
        "id": "PtgwxExe9gI0"
      },
      "source": [
        "import requests\n",
        "from bs4 import BeautifulSoup\n",
        "import re"
      ],
      "execution_count": 1,
      "outputs": []
    },
    {
      "cell_type": "code",
      "metadata": {
        "id": "IKPjK_M3ArqS"
      },
      "source": [
        "r = requests.get('https://www.yelp.ie/biz/the-cake-caf%C3%A9-dublin-2')\n",
        "soup = BeautifulSoup(r.text, 'html.parser')\n",
        "regex = re.compile('.*comment.*')\n",
        "results = soup.find_all('p', {'class':regex})\n",
        "reviews = [result.text for result in results]"
      ],
      "execution_count": 2,
      "outputs": []
    },
    {
      "cell_type": "code",
      "metadata": {
        "colab": {
          "base_uri": "https://localhost:8080/"
        },
        "id": "FTNVSoT2xTSS",
        "outputId": "a0b9dff5-4e95-4fe5-9adb-f887259f61b0"
      },
      "source": [
        "reviews"
      ],
      "execution_count": 3,
      "outputs": [
        {
          "output_type": "execute_result",
          "data": {
            "text/plain": [
              "[\"Lovely little café off Camden Street. You walk through a book shop to get to a pretty courtyard which is very peaceful considering it's in the middle of Dublin City. Staff were lovely and service was quick too. We ordered the Green Goddess poached eggs and the potato farl. The green goddess was delicious - three thick slices of seedy toast, pea guacamole, 2 poached eggs, feta, spring onion, coriander and a drizzle of their house green goddess dressing. I highly recommend! Potato farl was served with sautéed onions, feta, fried egg, bacon and a drizzle of the green goddess dressing. We couldn't resist taking away a slice of the carrot cake and the chocolate fudge cake - divine!\",\n",
              " 'I ordered online for a cake and a tea towel to be delivered to my friend living in Dublin. I live in the U.S. and relied on Yelp ratings to choose the Cake Cafe. The cake looked beautiful (my friend sent a picture), she loved the tea towel, and she said the cake was delicious. Ray, from the Cake Cafe was very responsive and communicative. I highly recommend this establishment.',\n",
              " 'Yummy cake bites (mini slices of sponge cake with cream & berries, Belgian chocolate cake, lemon bar, & carrot cake - thanks!) with earl grey tea and friendly staff!!!',\n",
              " 'I went to The Cake Cafe during my first trip to Ireland this February. I was looking for a place for Afternoon Tea, and this place came up on a few websites I found when doing research. I opted for The Cake Cafe because it was much less pricey than other places. I ordered the Cake Bites with the Chillax Tea. My partner got the Detox Tea. The teas were delicious, and the cake bites were nice. I expected smaller cakes, but got a full slice of cake, a brownie, and a cookie. The cake was my favorite. The brownie was vegan, but full of flavor. The cookie was ehh... I did like the cute location of the cafe. It was hidden and away from main traffic. The staff was great, and the music was on point.',\n",
              " 'You had me at cake. We came here to share a double layered chocolate cake slice and coffee while walking around before the U2 show. Great customer service and good prices. There is seating inside, however, we had it to go so that we could go to Croke Park and have a cake picnic in the sunshine.',\n",
              " 'Quirky cakey goodnessA lovely selection of teas and decadent cakes with some waist protecting options avalable. They also serve wonderful sandwiches and other options. \\xa0A hidden gem that is jatd to find but the fact that this place is busy says allot',\n",
              " 'Amazing meal at Cake Café. Very nice people, beautiful setting and cheap. Best meal in Dublin. Irish Meat, Fish & Cheese BoardKilleen Goats CheeseBuffalo Feta Cheese Gubbeen ChorizoBaked HamSmoked ChickenSardinesOpen SandwichHandmade Irish ChorizoCake Café Tomato Apple ChutneyMelted Smoked Gubbeen CheeseSaladParsleyCucumberBeetroot TzatzikiBulger WheatGoat CheeseNettle TeaElderberriesDandelionHawthorn-Buzz(Helps to regenerate body and Mind)',\n",
              " \"What can be said that hasn't already been said?This is just fabulous. I love places that are tardis-like in their presence. Completely innocuous on the outside, and an absolute haven inside. I love the bamboos growing, and being surrounded by all sides from the outside world, except for the view of the sky above.Their cakes are to die for. The food is so good, honestly you need to just try it. Homemade and decadent. Maybe stay away if you're on a diet. (Damn you diet!!)In particular, if you're looking for somewhere to chill, or to bring someone somewhere special and unexpected, but also cheap and cheerful; look no further!\",\n",
              " \"We visited The Cake Café while we were visiting Dublin. It's hidden in a beautiful neighborhood with a small terrace. We had, curry soup, the chicken sandwich and sponge cake and everything was delicious. Very friendly service.\",\n",
              " 'Super awesome place to order cakes made and designed to order! Also a great spot for coffee and lunch in the Camden St/Portobello area. Gets a little crowded at lunch and weekends for brunch but usually the turnover is fast. Also has outside seating!']"
            ]
          },
          "metadata": {},
          "execution_count": 3
        }
      ]
    },
    {
      "cell_type": "markdown",
      "metadata": {
        "id": "kn9GnkVxp4NO"
      },
      "source": [
        "# Analyse The Data"
      ]
    },
    {
      "cell_type": "code",
      "metadata": {
        "id": "3XzT9USOnjnt"
      },
      "source": [
        "import pandas as pd\n",
        "import numpy as np"
      ],
      "execution_count": 4,
      "outputs": []
    },
    {
      "cell_type": "code",
      "metadata": {
        "colab": {
          "base_uri": "https://localhost:8080/",
          "height": 206
        },
        "id": "o5KxGXMtoI3_",
        "outputId": "128eab69-bc00-47bb-f08e-8c9b1c953409"
      },
      "source": [
        "df = pd.DataFrame(np.array(reviews), columns=['review'])\n",
        "df.tail()"
      ],
      "execution_count": 5,
      "outputs": [
        {
          "output_type": "execute_result",
          "data": {
            "text/html": [
              "<div>\n",
              "<style scoped>\n",
              "    .dataframe tbody tr th:only-of-type {\n",
              "        vertical-align: middle;\n",
              "    }\n",
              "\n",
              "    .dataframe tbody tr th {\n",
              "        vertical-align: top;\n",
              "    }\n",
              "\n",
              "    .dataframe thead th {\n",
              "        text-align: right;\n",
              "    }\n",
              "</style>\n",
              "<table border=\"1\" class=\"dataframe\">\n",
              "  <thead>\n",
              "    <tr style=\"text-align: right;\">\n",
              "      <th></th>\n",
              "      <th>review</th>\n",
              "    </tr>\n",
              "  </thead>\n",
              "  <tbody>\n",
              "    <tr>\n",
              "      <th>5</th>\n",
              "      <td>Quirky cakey goodnessA lovely selection of tea...</td>\n",
              "    </tr>\n",
              "    <tr>\n",
              "      <th>6</th>\n",
              "      <td>Amazing meal at Cake Café. Very nice people, b...</td>\n",
              "    </tr>\n",
              "    <tr>\n",
              "      <th>7</th>\n",
              "      <td>What can be said that hasn't already been said...</td>\n",
              "    </tr>\n",
              "    <tr>\n",
              "      <th>8</th>\n",
              "      <td>We visited The Cake Café while we were visitin...</td>\n",
              "    </tr>\n",
              "    <tr>\n",
              "      <th>9</th>\n",
              "      <td>Super awesome place to order cakes made and de...</td>\n",
              "    </tr>\n",
              "  </tbody>\n",
              "</table>\n",
              "</div>"
            ],
            "text/plain": [
              "                                              review\n",
              "5  Quirky cakey goodnessA lovely selection of tea...\n",
              "6  Amazing meal at Cake Café. Very nice people, b...\n",
              "7  What can be said that hasn't already been said...\n",
              "8  We visited The Cake Café while we were visitin...\n",
              "9  Super awesome place to order cakes made and de..."
            ]
          },
          "metadata": {},
          "execution_count": 5
        }
      ]
    },
    {
      "cell_type": "code",
      "metadata": {
        "colab": {
          "base_uri": "https://localhost:8080/"
        },
        "id": "3ObDsEJiiRn1",
        "outputId": "7182374a-fa0d-408d-cb60-b32aa12e14eb"
      },
      "source": [
        "df['word_count'] = df['review'].apply(lambda x: len(x.split()))\n",
        "df['word_count'].tail()"
      ],
      "execution_count": 6,
      "outputs": [
        {
          "output_type": "execute_result",
          "data": {
            "text/plain": [
              "5     42\n",
              "6     49\n",
              "7    109\n",
              "8     37\n",
              "9     44\n",
              "Name: word_count, dtype: int64"
            ]
          },
          "metadata": {},
          "execution_count": 6
        }
      ]
    },
    {
      "cell_type": "code",
      "metadata": {
        "colab": {
          "base_uri": "https://localhost:8080/"
        },
        "id": "Oy42htRpri5v",
        "outputId": "4f8fc84f-6ab6-46d2-f062-a0eb020b700a"
      },
      "source": [
        "df['char_count'] = df['review'].apply(lambda x: len(x))\n",
        "df['char_count'].tail()"
      ],
      "execution_count": 7,
      "outputs": [
        {
          "output_type": "execute_result",
          "data": {
            "text/plain": [
              "5    250\n",
              "6    444\n",
              "7    630\n",
              "8    227\n",
              "9    250\n",
              "Name: char_count, dtype: int64"
            ]
          },
          "metadata": {},
          "execution_count": 7
        }
      ]
    },
    {
      "cell_type": "code",
      "metadata": {
        "colab": {
          "base_uri": "https://localhost:8080/",
          "height": 363
        },
        "id": "nU6s4j9V-Gvw",
        "outputId": "2e22d529-d62e-4b70-91eb-63e47e67a0d7"
      },
      "source": [
        "df"
      ],
      "execution_count": 8,
      "outputs": [
        {
          "output_type": "execute_result",
          "data": {
            "text/html": [
              "<div>\n",
              "<style scoped>\n",
              "    .dataframe tbody tr th:only-of-type {\n",
              "        vertical-align: middle;\n",
              "    }\n",
              "\n",
              "    .dataframe tbody tr th {\n",
              "        vertical-align: top;\n",
              "    }\n",
              "\n",
              "    .dataframe thead th {\n",
              "        text-align: right;\n",
              "    }\n",
              "</style>\n",
              "<table border=\"1\" class=\"dataframe\">\n",
              "  <thead>\n",
              "    <tr style=\"text-align: right;\">\n",
              "      <th></th>\n",
              "      <th>review</th>\n",
              "      <th>word_count</th>\n",
              "      <th>char_count</th>\n",
              "    </tr>\n",
              "  </thead>\n",
              "  <tbody>\n",
              "    <tr>\n",
              "      <th>0</th>\n",
              "      <td>Lovely little café off Camden Street. You walk...</td>\n",
              "      <td>119</td>\n",
              "      <td>685</td>\n",
              "    </tr>\n",
              "    <tr>\n",
              "      <th>1</th>\n",
              "      <td>I ordered online for a cake and a tea towel to...</td>\n",
              "      <td>70</td>\n",
              "      <td>379</td>\n",
              "    </tr>\n",
              "    <tr>\n",
              "      <th>2</th>\n",
              "      <td>Yummy cake bites (mini slices of sponge cake w...</td>\n",
              "      <td>29</td>\n",
              "      <td>167</td>\n",
              "    </tr>\n",
              "    <tr>\n",
              "      <th>3</th>\n",
              "      <td>I went to The Cake Cafe during my first trip t...</td>\n",
              "      <td>137</td>\n",
              "      <td>699</td>\n",
              "    </tr>\n",
              "    <tr>\n",
              "      <th>4</th>\n",
              "      <td>You had me at cake. We came here to share a do...</td>\n",
              "      <td>57</td>\n",
              "      <td>295</td>\n",
              "    </tr>\n",
              "    <tr>\n",
              "      <th>5</th>\n",
              "      <td>Quirky cakey goodnessA lovely selection of tea...</td>\n",
              "      <td>42</td>\n",
              "      <td>250</td>\n",
              "    </tr>\n",
              "    <tr>\n",
              "      <th>6</th>\n",
              "      <td>Amazing meal at Cake Café. Very nice people, b...</td>\n",
              "      <td>49</td>\n",
              "      <td>444</td>\n",
              "    </tr>\n",
              "    <tr>\n",
              "      <th>7</th>\n",
              "      <td>What can be said that hasn't already been said...</td>\n",
              "      <td>109</td>\n",
              "      <td>630</td>\n",
              "    </tr>\n",
              "    <tr>\n",
              "      <th>8</th>\n",
              "      <td>We visited The Cake Café while we were visitin...</td>\n",
              "      <td>37</td>\n",
              "      <td>227</td>\n",
              "    </tr>\n",
              "    <tr>\n",
              "      <th>9</th>\n",
              "      <td>Super awesome place to order cakes made and de...</td>\n",
              "      <td>44</td>\n",
              "      <td>250</td>\n",
              "    </tr>\n",
              "  </tbody>\n",
              "</table>\n",
              "</div>"
            ],
            "text/plain": [
              "                                              review  word_count  char_count\n",
              "0  Lovely little café off Camden Street. You walk...         119         685\n",
              "1  I ordered online for a cake and a tea towel to...          70         379\n",
              "2  Yummy cake bites (mini slices of sponge cake w...          29         167\n",
              "3  I went to The Cake Cafe during my first trip t...         137         699\n",
              "4  You had me at cake. We came here to share a do...          57         295\n",
              "5  Quirky cakey goodnessA lovely selection of tea...          42         250\n",
              "6  Amazing meal at Cake Café. Very nice people, b...          49         444\n",
              "7  What can be said that hasn't already been said...         109         630\n",
              "8  We visited The Cake Café while we were visitin...          37         227\n",
              "9  Super awesome place to order cakes made and de...          44         250"
            ]
          },
          "metadata": {},
          "execution_count": 8
        }
      ]
    },
    {
      "cell_type": "code",
      "metadata": {
        "colab": {
          "base_uri": "https://localhost:8080/",
          "height": 363
        },
        "id": "lCSjYR4f-Jaf",
        "outputId": "438baafd-857f-4b85-89f1-cf98c13ac607"
      },
      "source": [
        "#drop reviews with 0 words\n",
        "df = df.drop(df.index[df['word_count'] == 0.0])\n",
        "df"
      ],
      "execution_count": 9,
      "outputs": [
        {
          "output_type": "execute_result",
          "data": {
            "text/html": [
              "<div>\n",
              "<style scoped>\n",
              "    .dataframe tbody tr th:only-of-type {\n",
              "        vertical-align: middle;\n",
              "    }\n",
              "\n",
              "    .dataframe tbody tr th {\n",
              "        vertical-align: top;\n",
              "    }\n",
              "\n",
              "    .dataframe thead th {\n",
              "        text-align: right;\n",
              "    }\n",
              "</style>\n",
              "<table border=\"1\" class=\"dataframe\">\n",
              "  <thead>\n",
              "    <tr style=\"text-align: right;\">\n",
              "      <th></th>\n",
              "      <th>review</th>\n",
              "      <th>word_count</th>\n",
              "      <th>char_count</th>\n",
              "    </tr>\n",
              "  </thead>\n",
              "  <tbody>\n",
              "    <tr>\n",
              "      <th>0</th>\n",
              "      <td>Lovely little café off Camden Street. You walk...</td>\n",
              "      <td>119</td>\n",
              "      <td>685</td>\n",
              "    </tr>\n",
              "    <tr>\n",
              "      <th>1</th>\n",
              "      <td>I ordered online for a cake and a tea towel to...</td>\n",
              "      <td>70</td>\n",
              "      <td>379</td>\n",
              "    </tr>\n",
              "    <tr>\n",
              "      <th>2</th>\n",
              "      <td>Yummy cake bites (mini slices of sponge cake w...</td>\n",
              "      <td>29</td>\n",
              "      <td>167</td>\n",
              "    </tr>\n",
              "    <tr>\n",
              "      <th>3</th>\n",
              "      <td>I went to The Cake Cafe during my first trip t...</td>\n",
              "      <td>137</td>\n",
              "      <td>699</td>\n",
              "    </tr>\n",
              "    <tr>\n",
              "      <th>4</th>\n",
              "      <td>You had me at cake. We came here to share a do...</td>\n",
              "      <td>57</td>\n",
              "      <td>295</td>\n",
              "    </tr>\n",
              "    <tr>\n",
              "      <th>5</th>\n",
              "      <td>Quirky cakey goodnessA lovely selection of tea...</td>\n",
              "      <td>42</td>\n",
              "      <td>250</td>\n",
              "    </tr>\n",
              "    <tr>\n",
              "      <th>6</th>\n",
              "      <td>Amazing meal at Cake Café. Very nice people, b...</td>\n",
              "      <td>49</td>\n",
              "      <td>444</td>\n",
              "    </tr>\n",
              "    <tr>\n",
              "      <th>7</th>\n",
              "      <td>What can be said that hasn't already been said...</td>\n",
              "      <td>109</td>\n",
              "      <td>630</td>\n",
              "    </tr>\n",
              "    <tr>\n",
              "      <th>8</th>\n",
              "      <td>We visited The Cake Café while we were visitin...</td>\n",
              "      <td>37</td>\n",
              "      <td>227</td>\n",
              "    </tr>\n",
              "    <tr>\n",
              "      <th>9</th>\n",
              "      <td>Super awesome place to order cakes made and de...</td>\n",
              "      <td>44</td>\n",
              "      <td>250</td>\n",
              "    </tr>\n",
              "  </tbody>\n",
              "</table>\n",
              "</div>"
            ],
            "text/plain": [
              "                                              review  word_count  char_count\n",
              "0  Lovely little café off Camden Street. You walk...         119         685\n",
              "1  I ordered online for a cake and a tea towel to...          70         379\n",
              "2  Yummy cake bites (mini slices of sponge cake w...          29         167\n",
              "3  I went to The Cake Cafe during my first trip t...         137         699\n",
              "4  You had me at cake. We came here to share a do...          57         295\n",
              "5  Quirky cakey goodnessA lovely selection of tea...          42         250\n",
              "6  Amazing meal at Cake Café. Very nice people, b...          49         444\n",
              "7  What can be said that hasn't already been said...         109         630\n",
              "8  We visited The Cake Café while we were visitin...          37         227\n",
              "9  Super awesome place to order cakes made and de...          44         250"
            ]
          },
          "metadata": {},
          "execution_count": 9
        }
      ]
    },
    {
      "cell_type": "code",
      "metadata": {
        "id": "p5QM3d6gpCbk"
      },
      "source": [
        "def average_words(x):\n",
        "    words = x.split()\n",
        "    return sum(len(word) for word in words) / len(words)    "
      ],
      "execution_count": 10,
      "outputs": []
    },
    {
      "cell_type": "code",
      "metadata": {
        "id": "R0oDiqQMqV-7"
      },
      "source": [
        "df['average_word_length'] = df['review'].apply(lambda x: average_words(x))"
      ],
      "execution_count": 11,
      "outputs": []
    },
    {
      "cell_type": "code",
      "metadata": {
        "id": "SycctXrkup8Y",
        "colab": {
          "base_uri": "https://localhost:8080/"
        },
        "outputId": "b109489a-d869-4df4-a7bb-dee892ec9311"
      },
      "source": [
        "import nltk\n",
        "nltk.download('stopwords')\n",
        "from nltk.corpus import stopwords"
      ],
      "execution_count": 12,
      "outputs": [
        {
          "output_type": "stream",
          "name": "stdout",
          "text": [
            "[nltk_data] Downloading package stopwords to /root/nltk_data...\n",
            "[nltk_data]   Unzipping corpora/stopwords.zip.\n"
          ]
        }
      ]
    },
    {
      "cell_type": "code",
      "metadata": {
        "id": "OIv9w6LOuu7_",
        "colab": {
          "base_uri": "https://localhost:8080/"
        },
        "outputId": "b642821d-eb42-4e9b-fb55-d91714be9e70"
      },
      "source": [
        "stop_words = stopwords.words('greek')\n",
        "stop_words[:5]"
      ],
      "execution_count": 13,
      "outputs": [
        {
          "output_type": "execute_result",
          "data": {
            "text/plain": [
              "['αλλα', 'αν', 'αντι', 'απο', 'αυτα']"
            ]
          },
          "metadata": {},
          "execution_count": 13
        }
      ]
    },
    {
      "cell_type": "code",
      "metadata": {
        "id": "yECZXvzTBR9e",
        "colab": {
          "base_uri": "https://localhost:8080/",
          "height": 206
        },
        "outputId": "4b9aaa5a-77f2-496f-d64b-20a7d4f8b938"
      },
      "source": [
        "df['stopword_count'] = df['review'].apply(lambda x: len([word for word in x.split() if word.lower() in stop_words]))\n",
        "df['stopword_rate'] = df['stopword_count'] / df['word_count']\n",
        "df.head()"
      ],
      "execution_count": 14,
      "outputs": [
        {
          "output_type": "execute_result",
          "data": {
            "text/html": [
              "<div>\n",
              "<style scoped>\n",
              "    .dataframe tbody tr th:only-of-type {\n",
              "        vertical-align: middle;\n",
              "    }\n",
              "\n",
              "    .dataframe tbody tr th {\n",
              "        vertical-align: top;\n",
              "    }\n",
              "\n",
              "    .dataframe thead th {\n",
              "        text-align: right;\n",
              "    }\n",
              "</style>\n",
              "<table border=\"1\" class=\"dataframe\">\n",
              "  <thead>\n",
              "    <tr style=\"text-align: right;\">\n",
              "      <th></th>\n",
              "      <th>review</th>\n",
              "      <th>word_count</th>\n",
              "      <th>char_count</th>\n",
              "      <th>average_word_length</th>\n",
              "      <th>stopword_count</th>\n",
              "      <th>stopword_rate</th>\n",
              "    </tr>\n",
              "  </thead>\n",
              "  <tbody>\n",
              "    <tr>\n",
              "      <th>0</th>\n",
              "      <td>Lovely little café off Camden Street. You walk...</td>\n",
              "      <td>119</td>\n",
              "      <td>685</td>\n",
              "      <td>4.764706</td>\n",
              "      <td>0</td>\n",
              "      <td>0.0</td>\n",
              "    </tr>\n",
              "    <tr>\n",
              "      <th>1</th>\n",
              "      <td>I ordered online for a cake and a tea towel to...</td>\n",
              "      <td>70</td>\n",
              "      <td>379</td>\n",
              "      <td>4.428571</td>\n",
              "      <td>0</td>\n",
              "      <td>0.0</td>\n",
              "    </tr>\n",
              "    <tr>\n",
              "      <th>2</th>\n",
              "      <td>Yummy cake bites (mini slices of sponge cake w...</td>\n",
              "      <td>29</td>\n",
              "      <td>167</td>\n",
              "      <td>4.793103</td>\n",
              "      <td>0</td>\n",
              "      <td>0.0</td>\n",
              "    </tr>\n",
              "    <tr>\n",
              "      <th>3</th>\n",
              "      <td>I went to The Cake Cafe during my first trip t...</td>\n",
              "      <td>137</td>\n",
              "      <td>699</td>\n",
              "      <td>4.109489</td>\n",
              "      <td>0</td>\n",
              "      <td>0.0</td>\n",
              "    </tr>\n",
              "    <tr>\n",
              "      <th>4</th>\n",
              "      <td>You had me at cake. We came here to share a do...</td>\n",
              "      <td>57</td>\n",
              "      <td>295</td>\n",
              "      <td>4.192982</td>\n",
              "      <td>0</td>\n",
              "      <td>0.0</td>\n",
              "    </tr>\n",
              "  </tbody>\n",
              "</table>\n",
              "</div>"
            ],
            "text/plain": [
              "                                              review  ...  stopword_rate\n",
              "0  Lovely little café off Camden Street. You walk...  ...            0.0\n",
              "1  I ordered online for a cake and a tea towel to...  ...            0.0\n",
              "2  Yummy cake bites (mini slices of sponge cake w...  ...            0.0\n",
              "3  I went to The Cake Cafe during my first trip t...  ...            0.0\n",
              "4  You had me at cake. We came here to share a do...  ...            0.0\n",
              "\n",
              "[5 rows x 6 columns]"
            ]
          },
          "metadata": {},
          "execution_count": 14
        }
      ]
    },
    {
      "cell_type": "code",
      "metadata": {
        "colab": {
          "base_uri": "https://localhost:8080/",
          "height": 300
        },
        "id": "HSdxkd9nDpfN",
        "outputId": "badbd727-7df4-4d68-906f-d06f7d7b7c94"
      },
      "source": [
        "df.describe()"
      ],
      "execution_count": 15,
      "outputs": [
        {
          "output_type": "execute_result",
          "data": {
            "text/html": [
              "<div>\n",
              "<style scoped>\n",
              "    .dataframe tbody tr th:only-of-type {\n",
              "        vertical-align: middle;\n",
              "    }\n",
              "\n",
              "    .dataframe tbody tr th {\n",
              "        vertical-align: top;\n",
              "    }\n",
              "\n",
              "    .dataframe thead th {\n",
              "        text-align: right;\n",
              "    }\n",
              "</style>\n",
              "<table border=\"1\" class=\"dataframe\">\n",
              "  <thead>\n",
              "    <tr style=\"text-align: right;\">\n",
              "      <th></th>\n",
              "      <th>word_count</th>\n",
              "      <th>char_count</th>\n",
              "      <th>average_word_length</th>\n",
              "      <th>stopword_count</th>\n",
              "      <th>stopword_rate</th>\n",
              "    </tr>\n",
              "  </thead>\n",
              "  <tbody>\n",
              "    <tr>\n",
              "      <th>count</th>\n",
              "      <td>10.000000</td>\n",
              "      <td>10.000000</td>\n",
              "      <td>10.000000</td>\n",
              "      <td>10.0</td>\n",
              "      <td>10.0</td>\n",
              "    </tr>\n",
              "    <tr>\n",
              "      <th>mean</th>\n",
              "      <td>69.300000</td>\n",
              "      <td>402.600000</td>\n",
              "      <td>4.997856</td>\n",
              "      <td>0.0</td>\n",
              "      <td>0.0</td>\n",
              "    </tr>\n",
              "    <tr>\n",
              "      <th>std</th>\n",
              "      <td>38.363901</td>\n",
              "      <td>201.681377</td>\n",
              "      <td>1.131655</td>\n",
              "      <td>0.0</td>\n",
              "      <td>0.0</td>\n",
              "    </tr>\n",
              "    <tr>\n",
              "      <th>min</th>\n",
              "      <td>29.000000</td>\n",
              "      <td>167.000000</td>\n",
              "      <td>4.109489</td>\n",
              "      <td>0.0</td>\n",
              "      <td>0.0</td>\n",
              "    </tr>\n",
              "    <tr>\n",
              "      <th>25%</th>\n",
              "      <td>42.500000</td>\n",
              "      <td>250.000000</td>\n",
              "      <td>4.497565</td>\n",
              "      <td>0.0</td>\n",
              "      <td>0.0</td>\n",
              "    </tr>\n",
              "    <tr>\n",
              "      <th>50%</th>\n",
              "      <td>53.000000</td>\n",
              "      <td>337.000000</td>\n",
              "      <td>4.776848</td>\n",
              "      <td>0.0</td>\n",
              "      <td>0.0</td>\n",
              "    </tr>\n",
              "    <tr>\n",
              "      <th>75%</th>\n",
              "      <td>99.250000</td>\n",
              "      <td>583.500000</td>\n",
              "      <td>4.912562</td>\n",
              "      <td>0.0</td>\n",
              "      <td>0.0</td>\n",
              "    </tr>\n",
              "    <tr>\n",
              "      <th>max</th>\n",
              "      <td>137.000000</td>\n",
              "      <td>699.000000</td>\n",
              "      <td>8.081633</td>\n",
              "      <td>0.0</td>\n",
              "      <td>0.0</td>\n",
              "    </tr>\n",
              "  </tbody>\n",
              "</table>\n",
              "</div>"
            ],
            "text/plain": [
              "       word_count  char_count  ...  stopword_count  stopword_rate\n",
              "count   10.000000   10.000000  ...            10.0           10.0\n",
              "mean    69.300000  402.600000  ...             0.0            0.0\n",
              "std     38.363901  201.681377  ...             0.0            0.0\n",
              "min     29.000000  167.000000  ...             0.0            0.0\n",
              "25%     42.500000  250.000000  ...             0.0            0.0\n",
              "50%     53.000000  337.000000  ...             0.0            0.0\n",
              "75%     99.250000  583.500000  ...             0.0            0.0\n",
              "max    137.000000  699.000000  ...             0.0            0.0\n",
              "\n",
              "[8 rows x 5 columns]"
            ]
          },
          "metadata": {},
          "execution_count": 15
        }
      ]
    },
    {
      "cell_type": "markdown",
      "metadata": {
        "id": "y4oTHejDEDND"
      },
      "source": [
        "# Data Cleansing"
      ]
    },
    {
      "cell_type": "code",
      "metadata": {
        "id": "EsOloT_pEBbC"
      },
      "source": [
        "#generate the lowercase reviews\n",
        "df['lowercase'] = df['review'].apply(lambda x: \" \".join(word.lower() for word in x.split()))\n",
        "#remove everything that is not a word or a space\n",
        "df['punctuation'] = df['lowercase'].str.replace('[^\\w\\s]', '')\n",
        "#remove stopwords from the punctuated reviews\n",
        "df['cleaned_review'] = df['punctuation'].apply(lambda x: \" \".join(word for word in x.split() if word not in stop_words))\n",
        "#calculate rate of clean words per review\n",
        "df['cleaned_review_word_count'] = df['cleaned_review'].apply(lambda x: len(x.split()))\n",
        "df['clean_rate'] = df['cleaned_review_word_count'] / df['word_count']"
      ],
      "execution_count": 16,
      "outputs": []
    },
    {
      "cell_type": "code",
      "metadata": {
        "colab": {
          "base_uri": "https://localhost:8080/",
          "height": 501
        },
        "id": "5rjdvhfgRYFV",
        "outputId": "1b445946-4fbe-4ae2-8299-93a5c1dbc8f5"
      },
      "source": [
        "#inspect dataframe\n",
        "df.head()"
      ],
      "execution_count": 17,
      "outputs": [
        {
          "output_type": "execute_result",
          "data": {
            "text/html": [
              "<div>\n",
              "<style scoped>\n",
              "    .dataframe tbody tr th:only-of-type {\n",
              "        vertical-align: middle;\n",
              "    }\n",
              "\n",
              "    .dataframe tbody tr th {\n",
              "        vertical-align: top;\n",
              "    }\n",
              "\n",
              "    .dataframe thead th {\n",
              "        text-align: right;\n",
              "    }\n",
              "</style>\n",
              "<table border=\"1\" class=\"dataframe\">\n",
              "  <thead>\n",
              "    <tr style=\"text-align: right;\">\n",
              "      <th></th>\n",
              "      <th>review</th>\n",
              "      <th>word_count</th>\n",
              "      <th>char_count</th>\n",
              "      <th>average_word_length</th>\n",
              "      <th>stopword_count</th>\n",
              "      <th>stopword_rate</th>\n",
              "      <th>lowercase</th>\n",
              "      <th>punctuation</th>\n",
              "      <th>cleaned_review</th>\n",
              "      <th>cleaned_review_word_count</th>\n",
              "      <th>clean_rate</th>\n",
              "    </tr>\n",
              "  </thead>\n",
              "  <tbody>\n",
              "    <tr>\n",
              "      <th>0</th>\n",
              "      <td>Lovely little café off Camden Street. You walk...</td>\n",
              "      <td>119</td>\n",
              "      <td>685</td>\n",
              "      <td>4.764706</td>\n",
              "      <td>0</td>\n",
              "      <td>0.0</td>\n",
              "      <td>lovely little café off camden street. you walk...</td>\n",
              "      <td>lovely little café off camden street you walk ...</td>\n",
              "      <td>lovely little café off camden street you walk ...</td>\n",
              "      <td>117</td>\n",
              "      <td>0.983193</td>\n",
              "    </tr>\n",
              "    <tr>\n",
              "      <th>1</th>\n",
              "      <td>I ordered online for a cake and a tea towel to...</td>\n",
              "      <td>70</td>\n",
              "      <td>379</td>\n",
              "      <td>4.428571</td>\n",
              "      <td>0</td>\n",
              "      <td>0.0</td>\n",
              "      <td>i ordered online for a cake and a tea towel to...</td>\n",
              "      <td>i ordered online for a cake and a tea towel to...</td>\n",
              "      <td>i ordered online for a cake and a tea towel to...</td>\n",
              "      <td>70</td>\n",
              "      <td>1.000000</td>\n",
              "    </tr>\n",
              "    <tr>\n",
              "      <th>2</th>\n",
              "      <td>Yummy cake bites (mini slices of sponge cake w...</td>\n",
              "      <td>29</td>\n",
              "      <td>167</td>\n",
              "      <td>4.793103</td>\n",
              "      <td>0</td>\n",
              "      <td>0.0</td>\n",
              "      <td>yummy cake bites (mini slices of sponge cake w...</td>\n",
              "      <td>yummy cake bites mini slices of sponge cake wi...</td>\n",
              "      <td>yummy cake bites mini slices of sponge cake wi...</td>\n",
              "      <td>26</td>\n",
              "      <td>0.896552</td>\n",
              "    </tr>\n",
              "    <tr>\n",
              "      <th>3</th>\n",
              "      <td>I went to The Cake Cafe during my first trip t...</td>\n",
              "      <td>137</td>\n",
              "      <td>699</td>\n",
              "      <td>4.109489</td>\n",
              "      <td>0</td>\n",
              "      <td>0.0</td>\n",
              "      <td>i went to the cake cafe during my first trip t...</td>\n",
              "      <td>i went to the cake cafe during my first trip t...</td>\n",
              "      <td>i went to the cake cafe during my first trip t...</td>\n",
              "      <td>137</td>\n",
              "      <td>1.000000</td>\n",
              "    </tr>\n",
              "    <tr>\n",
              "      <th>4</th>\n",
              "      <td>You had me at cake. We came here to share a do...</td>\n",
              "      <td>57</td>\n",
              "      <td>295</td>\n",
              "      <td>4.192982</td>\n",
              "      <td>0</td>\n",
              "      <td>0.0</td>\n",
              "      <td>you had me at cake. we came here to share a do...</td>\n",
              "      <td>you had me at cake we came here to share a dou...</td>\n",
              "      <td>you had me at cake we came here to share a dou...</td>\n",
              "      <td>57</td>\n",
              "      <td>1.000000</td>\n",
              "    </tr>\n",
              "  </tbody>\n",
              "</table>\n",
              "</div>"
            ],
            "text/plain": [
              "                                              review  ...  clean_rate\n",
              "0  Lovely little café off Camden Street. You walk...  ...    0.983193\n",
              "1  I ordered online for a cake and a tea towel to...  ...    1.000000\n",
              "2  Yummy cake bites (mini slices of sponge cake w...  ...    0.896552\n",
              "3  I went to The Cake Cafe during my first trip t...  ...    1.000000\n",
              "4  You had me at cake. We came here to share a do...  ...    1.000000\n",
              "\n",
              "[5 rows x 11 columns]"
            ]
          },
          "metadata": {},
          "execution_count": 17
        }
      ]
    },
    {
      "cell_type": "markdown",
      "metadata": {
        "id": "yuJylXMZR0f7"
      },
      "source": [
        "#Lemmatization"
      ]
    },
    {
      "cell_type": "code",
      "metadata": {
        "colab": {
          "base_uri": "https://localhost:8080/"
        },
        "id": "_Utn64DRR3Zc",
        "outputId": "93635099-3961-4356-a246-42b0bd994104"
      },
      "source": [
        "#Import textblob\n",
        "from textblob import Word\n",
        "nltk.download('wordnet')\n",
        "from nltk import wordnet"
      ],
      "execution_count": 18,
      "outputs": [
        {
          "output_type": "stream",
          "name": "stdout",
          "text": [
            "[nltk_data] Downloading package wordnet to /root/nltk_data...\n",
            "[nltk_data]   Unzipping corpora/wordnet.zip.\n"
          ]
        }
      ]
    },
    {
      "cell_type": "code",
      "metadata": {
        "colab": {
          "base_uri": "https://localhost:8080/",
          "height": 658
        },
        "id": "yvYWjLG9R_tj",
        "outputId": "147b4c2e-ae8c-4b33-dc0d-8f1e54bfdbb0"
      },
      "source": [
        "df['lemmatized'] = df['cleaned_review'].apply(lambda x: \" \".join(Word(word).lemmatize() for word in x.split()))\n",
        "df.head()"
      ],
      "execution_count": 19,
      "outputs": [
        {
          "output_type": "execute_result",
          "data": {
            "text/html": [
              "<div>\n",
              "<style scoped>\n",
              "    .dataframe tbody tr th:only-of-type {\n",
              "        vertical-align: middle;\n",
              "    }\n",
              "\n",
              "    .dataframe tbody tr th {\n",
              "        vertical-align: top;\n",
              "    }\n",
              "\n",
              "    .dataframe thead th {\n",
              "        text-align: right;\n",
              "    }\n",
              "</style>\n",
              "<table border=\"1\" class=\"dataframe\">\n",
              "  <thead>\n",
              "    <tr style=\"text-align: right;\">\n",
              "      <th></th>\n",
              "      <th>review</th>\n",
              "      <th>word_count</th>\n",
              "      <th>char_count</th>\n",
              "      <th>average_word_length</th>\n",
              "      <th>stopword_count</th>\n",
              "      <th>stopword_rate</th>\n",
              "      <th>lowercase</th>\n",
              "      <th>punctuation</th>\n",
              "      <th>cleaned_review</th>\n",
              "      <th>cleaned_review_word_count</th>\n",
              "      <th>clean_rate</th>\n",
              "      <th>lemmatized</th>\n",
              "    </tr>\n",
              "  </thead>\n",
              "  <tbody>\n",
              "    <tr>\n",
              "      <th>0</th>\n",
              "      <td>Lovely little café off Camden Street. You walk...</td>\n",
              "      <td>119</td>\n",
              "      <td>685</td>\n",
              "      <td>4.764706</td>\n",
              "      <td>0</td>\n",
              "      <td>0.0</td>\n",
              "      <td>lovely little café off camden street. you walk...</td>\n",
              "      <td>lovely little café off camden street you walk ...</td>\n",
              "      <td>lovely little café off camden street you walk ...</td>\n",
              "      <td>117</td>\n",
              "      <td>0.983193</td>\n",
              "      <td>lovely little café off camden street you walk ...</td>\n",
              "    </tr>\n",
              "    <tr>\n",
              "      <th>1</th>\n",
              "      <td>I ordered online for a cake and a tea towel to...</td>\n",
              "      <td>70</td>\n",
              "      <td>379</td>\n",
              "      <td>4.428571</td>\n",
              "      <td>0</td>\n",
              "      <td>0.0</td>\n",
              "      <td>i ordered online for a cake and a tea towel to...</td>\n",
              "      <td>i ordered online for a cake and a tea towel to...</td>\n",
              "      <td>i ordered online for a cake and a tea towel to...</td>\n",
              "      <td>70</td>\n",
              "      <td>1.000000</td>\n",
              "      <td>i ordered online for a cake and a tea towel to...</td>\n",
              "    </tr>\n",
              "    <tr>\n",
              "      <th>2</th>\n",
              "      <td>Yummy cake bites (mini slices of sponge cake w...</td>\n",
              "      <td>29</td>\n",
              "      <td>167</td>\n",
              "      <td>4.793103</td>\n",
              "      <td>0</td>\n",
              "      <td>0.0</td>\n",
              "      <td>yummy cake bites (mini slices of sponge cake w...</td>\n",
              "      <td>yummy cake bites mini slices of sponge cake wi...</td>\n",
              "      <td>yummy cake bites mini slices of sponge cake wi...</td>\n",
              "      <td>26</td>\n",
              "      <td>0.896552</td>\n",
              "      <td>yummy cake bite mini slice of sponge cake with...</td>\n",
              "    </tr>\n",
              "    <tr>\n",
              "      <th>3</th>\n",
              "      <td>I went to The Cake Cafe during my first trip t...</td>\n",
              "      <td>137</td>\n",
              "      <td>699</td>\n",
              "      <td>4.109489</td>\n",
              "      <td>0</td>\n",
              "      <td>0.0</td>\n",
              "      <td>i went to the cake cafe during my first trip t...</td>\n",
              "      <td>i went to the cake cafe during my first trip t...</td>\n",
              "      <td>i went to the cake cafe during my first trip t...</td>\n",
              "      <td>137</td>\n",
              "      <td>1.000000</td>\n",
              "      <td>i went to the cake cafe during my first trip t...</td>\n",
              "    </tr>\n",
              "    <tr>\n",
              "      <th>4</th>\n",
              "      <td>You had me at cake. We came here to share a do...</td>\n",
              "      <td>57</td>\n",
              "      <td>295</td>\n",
              "      <td>4.192982</td>\n",
              "      <td>0</td>\n",
              "      <td>0.0</td>\n",
              "      <td>you had me at cake. we came here to share a do...</td>\n",
              "      <td>you had me at cake we came here to share a dou...</td>\n",
              "      <td>you had me at cake we came here to share a dou...</td>\n",
              "      <td>57</td>\n",
              "      <td>1.000000</td>\n",
              "      <td>you had me at cake we came here to share a dou...</td>\n",
              "    </tr>\n",
              "  </tbody>\n",
              "</table>\n",
              "</div>"
            ],
            "text/plain": [
              "                                              review  ...                                         lemmatized\n",
              "0  Lovely little café off Camden Street. You walk...  ...  lovely little café off camden street you walk ...\n",
              "1  I ordered online for a cake and a tea towel to...  ...  i ordered online for a cake and a tea towel to...\n",
              "2  Yummy cake bites (mini slices of sponge cake w...  ...  yummy cake bite mini slice of sponge cake with...\n",
              "3  I went to The Cake Cafe during my first trip t...  ...  i went to the cake cafe during my first trip t...\n",
              "4  You had me at cake. We came here to share a do...  ...  you had me at cake we came here to share a dou...\n",
              "\n",
              "[5 rows x 12 columns]"
            ]
          },
          "metadata": {},
          "execution_count": 19
        }
      ]
    },
    {
      "cell_type": "markdown",
      "metadata": {
        "id": "bPj6pNu3T2tE"
      },
      "source": [
        "#Sentiment Analysis"
      ]
    },
    {
      "cell_type": "code",
      "metadata": {
        "id": "GoE4o8O3T6P8"
      },
      "source": [
        "from textblob import TextBlob"
      ],
      "execution_count": 20,
      "outputs": []
    },
    {
      "cell_type": "code",
      "metadata": {
        "id": "0tPjvX-zUIhs"
      },
      "source": [
        "df['polarity'] = df['lemmatized'].apply(lambda x: TextBlob(x).sentiment[0] )\n",
        "df['subjectivity'] = df['lemmatized'].apply(lambda x: TextBlob(x).sentiment[1] )"
      ],
      "execution_count": 21,
      "outputs": []
    },
    {
      "cell_type": "code",
      "metadata": {
        "colab": {
          "base_uri": "https://localhost:8080/",
          "height": 816
        },
        "id": "uGhayd89VV6p",
        "outputId": "493aebcb-16f1-42ef-d1ea-cd661e3628b3"
      },
      "source": [
        "df.head()"
      ],
      "execution_count": 22,
      "outputs": [
        {
          "output_type": "execute_result",
          "data": {
            "text/html": [
              "<div>\n",
              "<style scoped>\n",
              "    .dataframe tbody tr th:only-of-type {\n",
              "        vertical-align: middle;\n",
              "    }\n",
              "\n",
              "    .dataframe tbody tr th {\n",
              "        vertical-align: top;\n",
              "    }\n",
              "\n",
              "    .dataframe thead th {\n",
              "        text-align: right;\n",
              "    }\n",
              "</style>\n",
              "<table border=\"1\" class=\"dataframe\">\n",
              "  <thead>\n",
              "    <tr style=\"text-align: right;\">\n",
              "      <th></th>\n",
              "      <th>review</th>\n",
              "      <th>word_count</th>\n",
              "      <th>char_count</th>\n",
              "      <th>average_word_length</th>\n",
              "      <th>stopword_count</th>\n",
              "      <th>stopword_rate</th>\n",
              "      <th>lowercase</th>\n",
              "      <th>punctuation</th>\n",
              "      <th>cleaned_review</th>\n",
              "      <th>cleaned_review_word_count</th>\n",
              "      <th>clean_rate</th>\n",
              "      <th>lemmatized</th>\n",
              "      <th>polarity</th>\n",
              "      <th>subjectivity</th>\n",
              "    </tr>\n",
              "  </thead>\n",
              "  <tbody>\n",
              "    <tr>\n",
              "      <th>0</th>\n",
              "      <td>Lovely little café off Camden Street. You walk...</td>\n",
              "      <td>119</td>\n",
              "      <td>685</td>\n",
              "      <td>4.764706</td>\n",
              "      <td>0</td>\n",
              "      <td>0.0</td>\n",
              "      <td>lovely little café off camden street. you walk...</td>\n",
              "      <td>lovely little café off camden street you walk ...</td>\n",
              "      <td>lovely little café off camden street you walk ...</td>\n",
              "      <td>117</td>\n",
              "      <td>0.983193</td>\n",
              "      <td>lovely little café off camden street you walk ...</td>\n",
              "      <td>0.127202</td>\n",
              "      <td>0.526071</td>\n",
              "    </tr>\n",
              "    <tr>\n",
              "      <th>1</th>\n",
              "      <td>I ordered online for a cake and a tea towel to...</td>\n",
              "      <td>70</td>\n",
              "      <td>379</td>\n",
              "      <td>4.428571</td>\n",
              "      <td>0</td>\n",
              "      <td>0.0</td>\n",
              "      <td>i ordered online for a cake and a tea towel to...</td>\n",
              "      <td>i ordered online for a cake and a tea towel to...</td>\n",
              "      <td>i ordered online for a cake and a tea towel to...</td>\n",
              "      <td>70</td>\n",
              "      <td>1.000000</td>\n",
              "      <td>i ordered online for a cake and a tea towel to...</td>\n",
              "      <td>0.507727</td>\n",
              "      <td>0.690000</td>\n",
              "    </tr>\n",
              "    <tr>\n",
              "      <th>2</th>\n",
              "      <td>Yummy cake bites (mini slices of sponge cake w...</td>\n",
              "      <td>29</td>\n",
              "      <td>167</td>\n",
              "      <td>4.793103</td>\n",
              "      <td>0</td>\n",
              "      <td>0.0</td>\n",
              "      <td>yummy cake bites (mini slices of sponge cake w...</td>\n",
              "      <td>yummy cake bites mini slices of sponge cake wi...</td>\n",
              "      <td>yummy cake bites mini slices of sponge cake wi...</td>\n",
              "      <td>26</td>\n",
              "      <td>0.896552</td>\n",
              "      <td>yummy cake bite mini slice of sponge cake with...</td>\n",
              "      <td>0.175000</td>\n",
              "      <td>0.266667</td>\n",
              "    </tr>\n",
              "    <tr>\n",
              "      <th>3</th>\n",
              "      <td>I went to The Cake Cafe during my first trip t...</td>\n",
              "      <td>137</td>\n",
              "      <td>699</td>\n",
              "      <td>4.109489</td>\n",
              "      <td>0</td>\n",
              "      <td>0.0</td>\n",
              "      <td>i went to the cake cafe during my first trip t...</td>\n",
              "      <td>i went to the cake cafe during my first trip t...</td>\n",
              "      <td>i went to the cake cafe during my first trip t...</td>\n",
              "      <td>137</td>\n",
              "      <td>1.000000</td>\n",
              "      <td>i went to the cake cafe during my first trip t...</td>\n",
              "      <td>0.275000</td>\n",
              "      <td>0.561667</td>\n",
              "    </tr>\n",
              "    <tr>\n",
              "      <th>4</th>\n",
              "      <td>You had me at cake. We came here to share a do...</td>\n",
              "      <td>57</td>\n",
              "      <td>295</td>\n",
              "      <td>4.192982</td>\n",
              "      <td>0</td>\n",
              "      <td>0.0</td>\n",
              "      <td>you had me at cake. we came here to share a do...</td>\n",
              "      <td>you had me at cake we came here to share a dou...</td>\n",
              "      <td>you had me at cake we came here to share a dou...</td>\n",
              "      <td>57</td>\n",
              "      <td>1.000000</td>\n",
              "      <td>you had me at cake we came here to share a dou...</td>\n",
              "      <td>0.500000</td>\n",
              "      <td>0.450000</td>\n",
              "    </tr>\n",
              "  </tbody>\n",
              "</table>\n",
              "</div>"
            ],
            "text/plain": [
              "                                              review  ...  subjectivity\n",
              "0  Lovely little café off Camden Street. You walk...  ...      0.526071\n",
              "1  I ordered online for a cake and a tea towel to...  ...      0.690000\n",
              "2  Yummy cake bites (mini slices of sponge cake w...  ...      0.266667\n",
              "3  I went to The Cake Cafe during my first trip t...  ...      0.561667\n",
              "4  You had me at cake. We came here to share a do...  ...      0.450000\n",
              "\n",
              "[5 rows x 14 columns]"
            ]
          },
          "metadata": {},
          "execution_count": 22
        }
      ]
    }
  ]
}